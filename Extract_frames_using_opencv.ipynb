{
  "nbformat": 4,
  "nbformat_minor": 0,
  "metadata": {
    "colab": {
      "provenance": [],
      "authorship_tag": "ABX9TyMEAR+OQznCniPyEfZDm25D",
      "include_colab_link": true
    },
    "kernelspec": {
      "name": "python3",
      "display_name": "Python 3"
    },
    "language_info": {
      "name": "python"
    }
  },
  "cells": [
    {
      "cell_type": "markdown",
      "metadata": {
        "id": "view-in-github",
        "colab_type": "text"
      },
      "source": [
        "<a href=\"https://colab.research.google.com/github/jatindersingh12/Extract-frames-from-video/blob/main/Extract_frames_using_opencv.ipynb\" target=\"_parent\"><img src=\"https://colab.research.google.com/assets/colab-badge.svg\" alt=\"Open In Colab\"/></a>"
      ]
    },
    {
      "cell_type": "code",
      "execution_count": 4,
      "metadata": {
        "id": "2RrtWVWpypdy"
      },
      "outputs": [],
      "source": [
        "import cv2\n",
        "\n",
        "# Function to extract frames\n",
        "def FrameCapture(path):\n",
        "\n",
        "    # Path to video file\n",
        "    vidObj = cv2.VideoCapture(path)\n",
        "\n",
        "    # Used as counter variable\n",
        "    count = 0\n",
        "\n",
        "    # checks whether frames were extracted\n",
        "    success = True\n",
        "\n",
        "    while success:\n",
        "\n",
        "        # vidObj object calls read\n",
        "        # function extract frames\n",
        "        success, image = vidObj.read()\n",
        "\n",
        "        # Check if frame is not empty\n",
        "        if image is not None:\n",
        "            # Saves the frames with frame-count\n",
        "            cv2.imwrite(\"image%d.jpg\" % count, image)\n",
        "            count += 1\n",
        "        else:\n",
        "            success = False\n",
        "\n",
        "# Driver Code\n",
        "if __name__ == '__main__':\n",
        "\n",
        "    # Calling the function\n",
        "    FrameCapture(\"/content/6254916-uhd_3840_2160_25fps.mp4\")\n"
      ]
    },
    {
      "cell_type": "code",
      "source": [],
      "metadata": {
        "id": "D74sr3n23_NJ"
      },
      "execution_count": null,
      "outputs": []
    }
  ]
}